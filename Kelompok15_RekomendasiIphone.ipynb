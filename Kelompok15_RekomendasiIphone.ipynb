{
  "cells": [
    {
      "cell_type": "markdown",
      "metadata": {
        "id": "view-in-github",
        "colab_type": "text"
      },
      "source": [
        "<a href=\"https://colab.research.google.com/github/rpipptra/Project-Rekomendasi-iphone/blob/main/Kelompok15_RekomendasiIphone.ipynb\" target=\"_parent\"><img src=\"https://colab.research.google.com/assets/colab-badge.svg\" alt=\"Open In Colab\"/></a>"
      ]
    },
    {
      "cell_type": "markdown",
      "metadata": {
        "id": "vwnNlNIEwoZ8"
      },
      "source": [
        "To learn more about accelerating pandas on Colab, see the [10 minute guide](https://colab.research.google.com/github/rapidsai-community/showcase/blob/main/getting_started_tutorials/cudf_pandas_colab_demo.ipynb) or\n",
        " [US stock market data analysis demo](https://colab.research.google.com/github/rapidsai-community/showcase/blob/main/getting_started_tutorials/cudf_pandas_stocks_demo.ipynb)."
      ]
    },
    {
      "cell_type": "code",
      "source": [
        "#Step 1: Baca data dari file txt\n",
        "def load_data_from_txt(file_path):\n",
        "    data = []\n",
        "    with open(file_path, 'r') as f:\n",
        "        for line in f:\n",
        "            if ':' in line:\n",
        "                name, specs = line.strip().split(\" : \")\n",
        "                price, ram, storage, battery, camera = specs.split(\", \")\n",
        "                data.append({\n",
        "                    'name': name.strip(),\n",
        "                    'price': int(price),\n",
        "                    'ram': int(ram),\n",
        "                    'storage': int(storage),\n",
        "                    'battery': battery.strip(),\n",
        "                    'camera': camera.strip()\n",
        "                })\n",
        "    return data\n",
        "\n",
        "#Step 2: Decision tree manual (berdasarkan pertanyaan logis)\n",
        "def recommend_iphone(data):\n",
        "    print(\"=== Rekomendasi iPhone ===\")\n",
        "    print(\"Jawab pertanyaan dengan 'ya' atau 'tidak' sesuai preferensimu.\")\n",
        "\n",
        "    # Pertanyaan budget\n",
        "    jawaban = input(\"Apakah budget kamu di bawah 5 juta? \").lower()\n",
        "    if jawaban == \"ya\":\n",
        "        print(\"Rekomendasi: iPhone 12 Mini atau iPhone SE\")\n",
        "        return\n",
        "\n",
        "    jawaban = input(\"Apakah budget kamu di bawah 15 juta? \").lower()\n",
        "    if jawaban == \"ya\":\n",
        "        # Budget 5jt - 15jt\n",
        "        jawaban = input(\"Apakah kamu ingin RAM minimal 6GB? \").lower()\n",
        "        if jawaban == \"tidak\":\n",
        "            print(\"Rekomendasi: iPhone 13 Mini atau iPhone 12 (RAM < 6GB)\")\n",
        "            return\n",
        "\n",
        "        jawaban = input(\"Apakah kamu ingin Storage minimal 256GB? \").lower()\n",
        "        if jawaban == \"tidak\":\n",
        "            print(\"Rekomendasi: iPhone 12 / 13 / 14\")\n",
        "            return\n",
        "\n",
        "        jawaban = input(\"Apakah kamu ingin kamera yang sangat bagus? \").lower()\n",
        "        if jawaban == \"ya\":\n",
        "            print(\"Rekomendasi: iPhone 14 Pro / 15 / 16\")\n",
        "        else:\n",
        "            print(\"Rekomendasi: iPhone 12 / 13 / 14\")\n",
        "        return\n",
        "\n",
        "    else:\n",
        "        # Budget > 15jt\n",
        "        jawaban = input(\"Apakah kamu ingin RAM minimal 8GB? \").lower()\n",
        "        if jawaban == \"tidak\":\n",
        "            print(\"Rekomendasi: iPhone 15 Plus / 16 Plus\")\n",
        "            return\n",
        "\n",
        "        jawaban = input(\"Apakah kamu ingin Storage minimal 256GB? \").lower()\n",
        "        if jawaban == \"tidak\":\n",
        "            print(\"Rekomendasi: iPhone 15 Plus / 16 Plus\")\n",
        "            return\n",
        "\n",
        "        jawaban = input(\"Apakah kamu ingin kamera yang sangat bagus? \").lower()\n",
        "        if jawaban == \"ya\":\n",
        "            print(\"Rekomendasi: iPhone 15 / 16 Pro / Pro Max\")\n",
        "        else:\n",
        "            print(\"Rekomendasi: iPhone 15 Plus / 16 Plus\")\n",
        "\n",
        "\n",
        "#Ubah path ke lokasi file kamu di Google Colab\n",
        "file_path = 'iphone_data.txt'\n",
        "\n",
        "data = load_data_from_txt(file_path)\n",
        "recommend_iphone(data)\n"
      ],
      "metadata": {
        "id": "wsNg2gB7vs-H",
        "colab": {
          "base_uri": "https://localhost:8080/"
        },
        "outputId": "607e4cc0-7f8b-4708-ef88-7d770d3c124e"
      },
      "execution_count": null,
      "outputs": [
        {
          "output_type": "stream",
          "name": "stdout",
          "text": [
            "=== Rekomendasi iPhone ===\n",
            "Jawab pertanyaan dengan 'ya' atau 'tidak' sesuai preferensimu.\n",
            "Apakah budget kamu di bawah 5 juta? tidak\n",
            "Apakah budget kamu di bawah 15 juta? tidak\n",
            "Apakah kamu ingin RAM minimal 8GB? ya\n",
            "Apakah kamu ingin Storage minimal 256GB? ya\n",
            "Apakah kamu ingin kamera yang sangat bagus? ya\n",
            "Rekomendasi: iPhone 15 / 16 Pro / Pro Max\n"
          ]
        }
      ]
    },
    {
      "cell_type": "code",
      "source": [
        "from graphviz import Digraph\n",
        "\n",
        "def visualisasi_tree_3_budget():\n",
        "    dot = Digraph()\n",
        "    dot.attr(rankdir='TB', size='12')\n",
        "\n",
        "    # Start dan cabang Budget\n",
        "    dot.node('Start', 'Start', shape='box', style='filled', fillcolor='lightblue')\n",
        "    dot.node('Bawah5', '< 5jt', shape='box')\n",
        "    dot.node('Tengah', '5jt - 1jt', shape='box')\n",
        "    dot.node('Atas15', '> 15jt', shape='box')\n",
        "\n",
        "    # Cabang setelah <5jt\n",
        "    dot.node('R5', 'Rekomendasi:\\niPhone 12 Mini / SE', shape='box', style='filled', fillcolor='lightgreen')\n",
        "\n",
        "    # Cabang setelah 5–15jt\n",
        "    dot.node('RAM1', 'RAM >= 6GB?', shape='box')\n",
        "    dot.node('Storage1', 'Storage >= 256GB?', shape='box')\n",
        "    dot.node('Camera1', 'Kamera sangat bagus?', shape='box')\n",
        "    dot.node('R1', 'iPhone 12 / 13 / 14', shape='box', style='filled', fillcolor='lightgreen')\n",
        "    dot.node('R2', 'iPhone 14 Pro / 15 / 16', shape='box', style='filled', fillcolor='lightgreen')\n",
        "    dot.node('R3', 'iPhone 13 Mini / 12 (RAM < 6)', shape='box', style='filled', fillcolor='lightgreen')\n",
        "\n",
        "    # Cabang setelah >15jt\n",
        "    dot.node('RAM2', 'RAM >= 8GB?', shape='box')\n",
        "    dot.node('Storage2', 'Storage >= 256GB?', shape='box')\n",
        "    dot.node('Camera2', 'Kamera sangat bagus?', shape='box')\n",
        "    dot.node('R4', 'iPhone 15/16 Pro / Pro Max', shape='box', style='filled', fillcolor='lightgreen')\n",
        "    dot.node('R6', 'iPhone 15 Plus / 16 Plus', shape='box', style='filled', fillcolor='lightgreen')\n",
        "\n",
        "    # Edges dari Start\n",
        "    dot.edge('Start', 'Bawah5')\n",
        "    dot.edge('Start', 'Tengah')\n",
        "    dot.edge('Start', 'Atas15')\n",
        "\n",
        "    # Bawah 5jt\n",
        "    dot.edge('Bawah5', 'R5')\n",
        "\n",
        "    # 5-15jt\n",
        "    dot.edge('Tengah', 'RAM1')\n",
        "    dot.edge('RAM1', 'Storage1', label='ya')\n",
        "    dot.edge('RAM1', 'R3', label='tidak')\n",
        "    dot.edge('Storage1', 'Camera1', label='ya')\n",
        "    dot.edge('Storage1', 'R1', label='tidak')\n",
        "    dot.edge('Camera1', 'R2', label='ya')\n",
        "    dot.edge('Camera1', 'R1', label='tidak')\n",
        "\n",
        "    # >15jt\n",
        "    dot.edge('Atas15', 'RAM2')\n",
        "    dot.edge('RAM2', 'Storage2', label='ya')\n",
        "    dot.edge('RAM2', 'R6', label='tidak')\n",
        "    dot.edge('Storage2', 'Camera2', label='ya')\n",
        "    dot.edge('Storage2', 'R6', label='tidak')\n",
        "    dot.edge('Camera2', 'R4', label='ya')\n",
        "    dot.edge('Camera2', 'R6', label='tidak')\n",
        "\n",
        "    return dot\n",
        "\n",
        "# Simpan dan tampilkan\n",
        "tree = visualisasi_tree_3_budget()\n",
        "tree.render(\"tree_rekomendasi_budget_3_cabang\", format=\"png\", cleanup=True)\n",
        "tree"
      ],
      "metadata": {
        "id": "sqZelMpc9NzK",
        "colab": {
          "base_uri": "https://localhost:8080/",
          "height": 625
        },
        "outputId": "7cb5491a-b187-41ff-ab49-e2f86dd08ec5"
      },
      "execution_count": null,
      "outputs": [
        {
          "output_type": "execute_result",
          "data": {
            "image/svg+xml": "<?xml version=\"1.0\" encoding=\"UTF-8\" standalone=\"no\"?>\n<!DOCTYPE svg PUBLIC \"-//W3C//DTD SVG 1.1//EN\"\n \"http://www.w3.org/Graphics/SVG/1.1/DTD/svg11.dtd\">\n<!-- Generated by graphviz version 2.43.0 (0)\n -->\n<!-- Title: %3 Pages: 1 -->\n<svg width=\"664pt\" height=\"453pt\"\n viewBox=\"0.00 0.00 663.50 453.00\" xmlns=\"http://www.w3.org/2000/svg\" xmlns:xlink=\"http://www.w3.org/1999/xlink\">\n<g id=\"graph0\" class=\"graph\" transform=\"scale(1 1) rotate(0) translate(4 449)\">\n<title>%3</title>\n<polygon fill=\"white\" stroke=\"transparent\" points=\"-4,4 -4,-449 659.5,-449 659.5,4 -4,4\"/>\n<!-- Start -->\n<g id=\"node1\" class=\"node\">\n<title>Start</title>\n<polygon fill=\"lightblue\" stroke=\"black\" points=\"331.5,-445 277.5,-445 277.5,-409 331.5,-409 331.5,-445\"/>\n<text text-anchor=\"middle\" x=\"304.5\" y=\"-423.3\" font-family=\"Times,serif\" font-size=\"14.00\">Start</text>\n</g>\n<!-- Bawah5 -->\n<g id=\"node2\" class=\"node\">\n<title>Bawah5</title>\n<polygon fill=\"none\" stroke=\"black\" points=\"227.5,-372 173.5,-372 173.5,-336 227.5,-336 227.5,-372\"/>\n<text text-anchor=\"middle\" x=\"200.5\" y=\"-350.3\" font-family=\"Times,serif\" font-size=\"14.00\">&lt; 5jt</text>\n</g>\n<!-- Start&#45;&gt;Bawah5 -->\n<g id=\"edge1\" class=\"edge\">\n<title>Start&#45;&gt;Bawah5</title>\n<path fill=\"none\" stroke=\"black\" d=\"M279.59,-408.99C265.93,-399.67 248.8,-387.97 233.98,-377.86\"/>\n<polygon fill=\"black\" stroke=\"black\" points=\"235.8,-374.86 225.57,-372.11 231.85,-380.64 235.8,-374.86\"/>\n</g>\n<!-- Tengah -->\n<g id=\"node3\" class=\"node\">\n<title>Tengah</title>\n<polygon fill=\"none\" stroke=\"black\" points=\"333,-372 276,-372 276,-336 333,-336 333,-372\"/>\n<text text-anchor=\"middle\" x=\"304.5\" y=\"-350.3\" font-family=\"Times,serif\" font-size=\"14.00\">5jt &#45; 1jt</text>\n</g>\n<!-- Start&#45;&gt;Tengah -->\n<g id=\"edge2\" class=\"edge\">\n<title>Start&#45;&gt;Tengah</title>\n<path fill=\"none\" stroke=\"black\" d=\"M304.5,-408.81C304.5,-400.79 304.5,-391.05 304.5,-382.07\"/>\n<polygon fill=\"black\" stroke=\"black\" points=\"308,-382.03 304.5,-372.03 301,-382.03 308,-382.03\"/>\n</g>\n<!-- Atas15 -->\n<g id=\"node4\" class=\"node\">\n<title>Atas15</title>\n<polygon fill=\"none\" stroke=\"black\" points=\"457.5,-372 403.5,-372 403.5,-336 457.5,-336 457.5,-372\"/>\n<text text-anchor=\"middle\" x=\"430.5\" y=\"-350.3\" font-family=\"Times,serif\" font-size=\"14.00\">&gt; 15jt</text>\n</g>\n<!-- Start&#45;&gt;Atas15 -->\n<g id=\"edge3\" class=\"edge\">\n<title>Start&#45;&gt;Atas15</title>\n<path fill=\"none\" stroke=\"black\" d=\"M331.53,-410.77C349.84,-400.45 374.25,-386.7 394.24,-375.43\"/>\n<polygon fill=\"black\" stroke=\"black\" points=\"396.09,-378.41 403.08,-370.45 392.65,-372.31 396.09,-378.41\"/>\n</g>\n<!-- R5 -->\n<g id=\"node5\" class=\"node\">\n<title>R5</title>\n<polygon fill=\"lightgreen\" stroke=\"black\" points=\"234,-299 105,-299 105,-261 234,-261 234,-299\"/>\n<text text-anchor=\"middle\" x=\"169.5\" y=\"-283.8\" font-family=\"Times,serif\" font-size=\"14.00\">Rekomendasi:</text>\n<text text-anchor=\"middle\" x=\"169.5\" y=\"-268.8\" font-family=\"Times,serif\" font-size=\"14.00\">iPhone 12 Mini / SE</text>\n</g>\n<!-- Bawah5&#45;&gt;R5 -->\n<g id=\"edge4\" class=\"edge\">\n<title>Bawah5&#45;&gt;R5</title>\n<path fill=\"none\" stroke=\"black\" d=\"M193.15,-335.94C189.62,-327.73 185.29,-317.68 181.31,-308.43\"/>\n<polygon fill=\"black\" stroke=\"black\" points=\"184.51,-307 177.34,-299.2 178.08,-309.77 184.51,-307\"/>\n</g>\n<!-- RAM1 -->\n<g id=\"node6\" class=\"node\">\n<title>RAM1</title>\n<polygon fill=\"none\" stroke=\"black\" points=\"356.5,-298 252.5,-298 252.5,-262 356.5,-262 356.5,-298\"/>\n<text text-anchor=\"middle\" x=\"304.5\" y=\"-276.3\" font-family=\"Times,serif\" font-size=\"14.00\">RAM &gt;= 6GB?</text>\n</g>\n<!-- Tengah&#45;&gt;RAM1 -->\n<g id=\"edge5\" class=\"edge\">\n<title>Tengah&#45;&gt;RAM1</title>\n<path fill=\"none\" stroke=\"black\" d=\"M304.5,-335.94C304.5,-327.81 304.5,-317.88 304.5,-308.7\"/>\n<polygon fill=\"black\" stroke=\"black\" points=\"308,-308.44 304.5,-298.44 301,-308.44 308,-308.44\"/>\n</g>\n<!-- RAM2 -->\n<g id=\"node12\" class=\"node\">\n<title>RAM2</title>\n<polygon fill=\"none\" stroke=\"black\" points=\"535.5,-298 431.5,-298 431.5,-262 535.5,-262 535.5,-298\"/>\n<text text-anchor=\"middle\" x=\"483.5\" y=\"-276.3\" font-family=\"Times,serif\" font-size=\"14.00\">RAM &gt;= 8GB?</text>\n</g>\n<!-- Atas15&#45;&gt;RAM2 -->\n<g id=\"edge12\" class=\"edge\">\n<title>Atas15&#45;&gt;RAM2</title>\n<path fill=\"none\" stroke=\"black\" d=\"M443.06,-335.94C449.5,-327.19 457.48,-316.35 464.64,-306.63\"/>\n<polygon fill=\"black\" stroke=\"black\" points=\"467.55,-308.57 470.66,-298.44 461.91,-304.42 467.55,-308.57\"/>\n</g>\n<!-- Storage1 -->\n<g id=\"node7\" class=\"node\">\n<title>Storage1</title>\n<polygon fill=\"none\" stroke=\"black\" points=\"189,-210 62,-210 62,-174 189,-174 189,-210\"/>\n<text text-anchor=\"middle\" x=\"125.5\" y=\"-188.3\" font-family=\"Times,serif\" font-size=\"14.00\">Storage &gt;= 256GB?</text>\n</g>\n<!-- RAM1&#45;&gt;Storage1 -->\n<g id=\"edge6\" class=\"edge\">\n<title>RAM1&#45;&gt;Storage1</title>\n<path fill=\"none\" stroke=\"black\" d=\"M268.71,-261.8C240.32,-248.17 200.5,-229.03 170.05,-214.4\"/>\n<polygon fill=\"black\" stroke=\"black\" points=\"171.46,-211.2 160.93,-210.02 168.42,-217.51 171.46,-211.2\"/>\n<text text-anchor=\"middle\" x=\"233\" y=\"-231.8\" font-family=\"Times,serif\" font-size=\"14.00\">ya</text>\n</g>\n<!-- R3 -->\n<g id=\"node11\" class=\"node\">\n<title>R3</title>\n<polygon fill=\"lightgreen\" stroke=\"black\" points=\"401.5,-210 207.5,-210 207.5,-174 401.5,-174 401.5,-210\"/>\n<text text-anchor=\"middle\" x=\"304.5\" y=\"-188.3\" font-family=\"Times,serif\" font-size=\"14.00\">iPhone 13 Mini / 12 (RAM &lt; 6)</text>\n</g>\n<!-- RAM1&#45;&gt;R3 -->\n<g id=\"edge7\" class=\"edge\">\n<title>RAM1&#45;&gt;R3</title>\n<path fill=\"none\" stroke=\"black\" d=\"M304.5,-261.6C304.5,-249.75 304.5,-233.82 304.5,-220.29\"/>\n<polygon fill=\"black\" stroke=\"black\" points=\"308,-220.08 304.5,-210.08 301,-220.08 308,-220.08\"/>\n<text text-anchor=\"middle\" x=\"318.5\" y=\"-231.8\" font-family=\"Times,serif\" font-size=\"14.00\">tidak</text>\n</g>\n<!-- Camera1 -->\n<g id=\"node8\" class=\"node\">\n<title>Camera1</title>\n<polygon fill=\"none\" stroke=\"black\" points=\"246.5,-123 106.5,-123 106.5,-87 246.5,-87 246.5,-123\"/>\n<text text-anchor=\"middle\" x=\"176.5\" y=\"-101.3\" font-family=\"Times,serif\" font-size=\"14.00\">Kamera sangat bagus?</text>\n</g>\n<!-- Storage1&#45;&gt;Camera1 -->\n<g id=\"edge8\" class=\"edge\">\n<title>Storage1&#45;&gt;Camera1</title>\n<path fill=\"none\" stroke=\"black\" d=\"M135.82,-173.8C143.01,-161.82 152.73,-145.62 160.87,-132.06\"/>\n<polygon fill=\"black\" stroke=\"black\" points=\"164.05,-133.55 166.19,-123.18 158.05,-129.95 164.05,-133.55\"/>\n<text text-anchor=\"middle\" x=\"161\" y=\"-144.8\" font-family=\"Times,serif\" font-size=\"14.00\">ya</text>\n</g>\n<!-- R1 -->\n<g id=\"node9\" class=\"node\">\n<title>R1</title>\n<polygon fill=\"lightgreen\" stroke=\"black\" points=\"121,-36 0,-36 0,0 121,0 121,-36\"/>\n<text text-anchor=\"middle\" x=\"60.5\" y=\"-14.3\" font-family=\"Times,serif\" font-size=\"14.00\">iPhone 12 / 13 / 14</text>\n</g>\n<!-- Storage1&#45;&gt;R1 -->\n<g id=\"edge9\" class=\"edge\">\n<title>Storage1&#45;&gt;R1</title>\n<path fill=\"none\" stroke=\"black\" d=\"M106.41,-173.98C93.58,-161.3 77.59,-142.82 69.5,-123 59.48,-98.46 57.97,-68 58.52,-46.41\"/>\n<polygon fill=\"black\" stroke=\"black\" points=\"62.02,-46.43 58.94,-36.29 55.03,-46.14 62.02,-46.43\"/>\n<text text-anchor=\"middle\" x=\"83.5\" y=\"-101.3\" font-family=\"Times,serif\" font-size=\"14.00\">tidak</text>\n</g>\n<!-- Camera1&#45;&gt;R1 -->\n<g id=\"edge11\" class=\"edge\">\n<title>Camera1&#45;&gt;R1</title>\n<path fill=\"none\" stroke=\"black\" d=\"M153.03,-86.8C135.49,-73.95 111.35,-56.26 92.12,-42.17\"/>\n<polygon fill=\"black\" stroke=\"black\" points=\"94.07,-39.26 83.94,-36.18 89.94,-44.91 94.07,-39.26\"/>\n<text text-anchor=\"middle\" x=\"139.5\" y=\"-57.8\" font-family=\"Times,serif\" font-size=\"14.00\">tidak</text>\n</g>\n<!-- R2 -->\n<g id=\"node10\" class=\"node\">\n<title>R2</title>\n<polygon fill=\"lightgreen\" stroke=\"black\" points=\"282,-36 139,-36 139,0 282,0 282,-36\"/>\n<text text-anchor=\"middle\" x=\"210.5\" y=\"-14.3\" font-family=\"Times,serif\" font-size=\"14.00\">iPhone 14 Pro / 15 / 16</text>\n</g>\n<!-- Camera1&#45;&gt;R2 -->\n<g id=\"edge10\" class=\"edge\">\n<title>Camera1&#45;&gt;R2</title>\n<path fill=\"none\" stroke=\"black\" d=\"M183.38,-86.8C188.08,-75.05 194.4,-59.24 199.76,-45.84\"/>\n<polygon fill=\"black\" stroke=\"black\" points=\"203.17,-46.76 203.63,-36.18 196.67,-44.16 203.17,-46.76\"/>\n<text text-anchor=\"middle\" x=\"203\" y=\"-57.8\" font-family=\"Times,serif\" font-size=\"14.00\">ya</text>\n</g>\n<!-- Storage2 -->\n<g id=\"node13\" class=\"node\">\n<title>Storage2</title>\n<polygon fill=\"none\" stroke=\"black\" points=\"547,-210 420,-210 420,-174 547,-174 547,-210\"/>\n<text text-anchor=\"middle\" x=\"483.5\" y=\"-188.3\" font-family=\"Times,serif\" font-size=\"14.00\">Storage &gt;= 256GB?</text>\n</g>\n<!-- RAM2&#45;&gt;Storage2 -->\n<g id=\"edge13\" class=\"edge\">\n<title>RAM2&#45;&gt;Storage2</title>\n<path fill=\"none\" stroke=\"black\" d=\"M483.5,-261.6C483.5,-249.75 483.5,-233.82 483.5,-220.29\"/>\n<polygon fill=\"black\" stroke=\"black\" points=\"487,-220.08 483.5,-210.08 480,-220.08 487,-220.08\"/>\n<text text-anchor=\"middle\" x=\"490\" y=\"-231.8\" font-family=\"Times,serif\" font-size=\"14.00\">ya</text>\n</g>\n<!-- R6 -->\n<g id=\"node16\" class=\"node\">\n<title>R6</title>\n<polygon fill=\"lightgreen\" stroke=\"black\" points=\"655.5,-36 505.5,-36 505.5,0 655.5,0 655.5,-36\"/>\n<text text-anchor=\"middle\" x=\"580.5\" y=\"-14.3\" font-family=\"Times,serif\" font-size=\"14.00\">iPhone 15 Plus / 16 Plus</text>\n</g>\n<!-- RAM2&#45;&gt;R6 -->\n<g id=\"edge14\" class=\"edge\">\n<title>RAM2&#45;&gt;R6</title>\n<path fill=\"none\" stroke=\"black\" d=\"M509.15,-261.95C525.55,-249.57 545.7,-231.31 556.5,-210 583.39,-156.96 584.5,-85.38 582.67,-46.65\"/>\n<polygon fill=\"black\" stroke=\"black\" points=\"586.14,-45.98 582.06,-36.2 579.15,-46.38 586.14,-45.98\"/>\n<text text-anchor=\"middle\" x=\"591.5\" y=\"-144.8\" font-family=\"Times,serif\" font-size=\"14.00\">tidak</text>\n</g>\n<!-- Camera2 -->\n<g id=\"node14\" class=\"node\">\n<title>Camera2</title>\n<polygon fill=\"none\" stroke=\"black\" points=\"553.5,-123 413.5,-123 413.5,-87 553.5,-87 553.5,-123\"/>\n<text text-anchor=\"middle\" x=\"483.5\" y=\"-101.3\" font-family=\"Times,serif\" font-size=\"14.00\">Kamera sangat bagus?</text>\n</g>\n<!-- Storage2&#45;&gt;Camera2 -->\n<g id=\"edge15\" class=\"edge\">\n<title>Storage2&#45;&gt;Camera2</title>\n<path fill=\"none\" stroke=\"black\" d=\"M483.5,-173.8C483.5,-162.16 483.5,-146.55 483.5,-133.24\"/>\n<polygon fill=\"black\" stroke=\"black\" points=\"487,-133.18 483.5,-123.18 480,-133.18 487,-133.18\"/>\n<text text-anchor=\"middle\" x=\"490\" y=\"-144.8\" font-family=\"Times,serif\" font-size=\"14.00\">ya</text>\n</g>\n<!-- Storage2&#45;&gt;R6 -->\n<g id=\"edge16\" class=\"edge\">\n<title>Storage2&#45;&gt;R6</title>\n<path fill=\"none\" stroke=\"black\" d=\"M442.34,-173.94C403.95,-155.35 355.54,-123.36 376.5,-87 391.12,-61.64 406.31,-64.84 433.5,-54 445.49,-49.22 469.99,-42.94 495.61,-37.02\"/>\n<polygon fill=\"black\" stroke=\"black\" points=\"496.49,-40.41 505.46,-34.78 494.93,-33.59 496.49,-40.41\"/>\n<text text-anchor=\"middle\" x=\"390.5\" y=\"-101.3\" font-family=\"Times,serif\" font-size=\"14.00\">tidak</text>\n</g>\n<!-- R4 -->\n<g id=\"node15\" class=\"node\">\n<title>R4</title>\n<polygon fill=\"lightgreen\" stroke=\"black\" points=\"487.5,-36 317.5,-36 317.5,0 487.5,0 487.5,-36\"/>\n<text text-anchor=\"middle\" x=\"402.5\" y=\"-14.3\" font-family=\"Times,serif\" font-size=\"14.00\">iPhone 15/16 Pro / Pro Max</text>\n</g>\n<!-- Camera2&#45;&gt;R4 -->\n<g id=\"edge17\" class=\"edge\">\n<title>Camera2&#45;&gt;R4</title>\n<path fill=\"none\" stroke=\"black\" d=\"M467.11,-86.8C455.25,-74.36 439.06,-57.36 425.85,-43.5\"/>\n<polygon fill=\"black\" stroke=\"black\" points=\"428.3,-41 418.87,-36.18 423.23,-45.83 428.3,-41\"/>\n<text text-anchor=\"middle\" x=\"454\" y=\"-57.8\" font-family=\"Times,serif\" font-size=\"14.00\">ya</text>\n</g>\n<!-- Camera2&#45;&gt;R6 -->\n<g id=\"edge18\" class=\"edge\">\n<title>Camera2&#45;&gt;R6</title>\n<path fill=\"none\" stroke=\"black\" d=\"M502.33,-87C513.15,-77.28 527.03,-64.89 539.5,-54 543.73,-50.31 548.23,-46.42 552.64,-42.64\"/>\n<polygon fill=\"black\" stroke=\"black\" points=\"555.08,-45.16 560.4,-36 550.53,-39.84 555.08,-45.16\"/>\n<text text-anchor=\"middle\" x=\"553.5\" y=\"-57.8\" font-family=\"Times,serif\" font-size=\"14.00\">tidak</text>\n</g>\n</g>\n</svg>\n",
            "text/plain": [
              "<graphviz.graphs.Digraph at 0x7b1ff84b72d0>"
            ]
          },
          "metadata": {},
          "execution_count": 5
        }
      ]
    }
  ],
  "metadata": {
    "colab": {
      "provenance": [],
      "include_colab_link": true
    },
    "kernelspec": {
      "display_name": "Python 3",
      "name": "python3"
    }
  },
  "nbformat": 4,
  "nbformat_minor": 0
}